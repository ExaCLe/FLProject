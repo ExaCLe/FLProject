{
 "cells": [
  {
   "cell_type": "code",
   "execution_count": 32,
   "metadata": {},
   "outputs": [],
   "source": [
    "import pandas as pd \n",
    "import numpy as np \n",
    "\n",
    "data_folder = \"../data/semantic_alignment/\"\n",
    "\n",
    "def load_data(language: str): \n",
    "    # File paths for German (source) and English (target)\n",
    "    lang_file = data_folder + f\"en-{language}.txt/\" + f\"News-Commentary.en-{language}.{language}\"\n",
    "    en_file = data_folder + f\"en-{language}.txt/\" + f\"News-Commentary.en-{language}.en\"\n",
    "\n",
    "    # Read files into lists\n",
    "    with open(lang_file, \"r\", encoding=\"utf-8\") as f_lang, open(en_file, \"r\", encoding=\"utf-8\") as f_en:\n",
    "        lang_sentences = f_lang.readlines()\n",
    "        en_sentences = f_en.readlines()\n",
    "\n",
    "    # Create a DataFrame\n",
    "    df = pd.DataFrame({language: [s.strip() for s in lang_sentences], \"en\": [s.strip() for s in en_sentences]})\n",
    "\n",
    "    return df"
   ]
  },
  {
   "cell_type": "code",
   "execution_count": 33,
   "metadata": {},
   "outputs": [
    {
     "name": "stdout",
     "output_type": "stream",
     "text": [
      "Saved de.csv\n",
      "Saved fr.csv\n",
      "Saved es.csv\n",
      "Saved zh.csv\n"
     ]
    }
   ],
   "source": [
    "languages = [\"de\", \"fr\", \"es\", \"zh\"]\n",
    "\n",
    "# load the data for each language and save the csv file under the data folder \n",
    "for lang in languages: \n",
    "    df = load_data(lang)\n",
    "    df.to_csv(data_folder + f\"{lang}.csv\", index=False)\n",
    "    print(f\"Saved {lang}.csv\")"
   ]
  },
  {
   "cell_type": "code",
   "execution_count": null,
   "metadata": {},
   "outputs": [],
   "source": []
  }
 ],
 "metadata": {
  "kernelspec": {
   "display_name": "fl_project",
   "language": "python",
   "name": "python3"
  },
  "language_info": {
   "codemirror_mode": {
    "name": "ipython",
    "version": 3
   },
   "file_extension": ".py",
   "mimetype": "text/x-python",
   "name": "python",
   "nbconvert_exporter": "python",
   "pygments_lexer": "ipython3",
   "version": "3.11.11"
  }
 },
 "nbformat": 4,
 "nbformat_minor": 2
}
