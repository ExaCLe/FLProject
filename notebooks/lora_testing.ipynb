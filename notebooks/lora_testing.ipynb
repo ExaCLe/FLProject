{
 "cells": [
  {
   "cell_type": "code",
   "execution_count": 16,
   "metadata": {},
   "outputs": [
    {
     "name": "stderr",
     "output_type": "stream",
     "text": [
      "Some weights of GPT2ForSequenceClassification were not initialized from the model checkpoint at openai-community/gpt2 and are newly initialized: ['score.weight']\n",
      "You should probably TRAIN this model on a down-stream task to be able to use it for predictions and inference.\n"
     ]
    }
   ],
   "source": [
    "import argparse\n",
    "import time\n",
    "import flwr as fl\n",
    "from flwr.client import ClientApp\n",
    "from flwr.common import Context\n",
    "from flwr.server import ServerApp, ServerConfig, ServerAppComponents\n",
    "from flwr.server.strategy import FedAvg\n",
    "from flwr.simulation import run_simulation\n",
    "import torch\n",
    "from transformers import AutoModelForSequenceClassification, AutoTokenizer\n",
    "from peft.tuners.lora import LoraConfig\n",
    "from peft.utils.peft_types import TaskType\n",
    "from peft.mapping import get_peft_model\n",
    "import wandb\n",
    "from dataset import load_validation_data\n",
    "import shutil\n",
    "import os\n",
    "from torch.utils.data import ConcatDataset\n",
    "from torch.utils.data import DataLoader\n",
    "\n",
    "from client import GPT2FLClient\n",
    "from dataset import load_data\n",
    "from model import test, train\n",
    "\n",
    "model_path = \"openai-community/gpt2\"\n",
    "\n",
    "tokenizer = AutoTokenizer.from_pretrained(model_path)\n",
    "\n",
    "model = AutoModelForSequenceClassification.from_pretrained(\n",
    "        model_path,\n",
    "        num_labels=3,\n",
    "    )"
   ]
  },
  {
   "cell_type": "code",
   "execution_count": 53,
   "metadata": {},
   "outputs": [],
   "source": [
    "peft_config = LoraConfig(\n",
    "    task_type=TaskType.SEQ_CLS,\n",
    "    inference_mode=False,\n",
    "    r=8,\n",
    "    lora_alpha=32,\n",
    "    lora_dropout=0.1,\n",
    ")\n",
    "\n",
    "model = get_peft_model(model, peft_config)"
   ]
  },
  {
   "cell_type": "code",
   "execution_count": 49,
   "metadata": {},
   "outputs": [
    {
     "data": {
      "text/plain": [
       "{'c_attn'}"
      ]
     },
     "execution_count": 49,
     "metadata": {},
     "output_type": "execute_result"
    }
   ],
   "source": [
    "peft_config.target_modules"
   ]
  },
  {
   "cell_type": "code",
   "execution_count": 50,
   "metadata": {},
   "outputs": [
    {
     "data": {
      "text/plain": [
       "[0]"
      ]
     },
     "execution_count": 50,
     "metadata": {},
     "output_type": "execute_result"
    }
   ],
   "source": [
    "peft_config.layers_to_transform"
   ]
  },
  {
   "cell_type": "code",
   "execution_count": 52,
   "metadata": {},
   "outputs": [
    {
     "name": "stdout",
     "output_type": "stream",
     "text": [
      "Trainable layers:\n",
      "\n",
      "base_model.model.base_model.model.base_model.model.base_model.model.base_model.model.base_model.model.base_model.model.transformer.h.0.attn.c_attn.lora_A.default.weight\n",
      "Shape: torch.Size([8, 768])\n",
      "\n",
      "base_model.model.base_model.model.base_model.model.base_model.model.base_model.model.base_model.model.base_model.model.transformer.h.0.attn.c_attn.lora_B.default.weight\n",
      "Shape: torch.Size([2304, 8])\n",
      "\n",
      "base_model.model.base_model.model.base_model.model.base_model.model.base_model.model.base_model.model.base_model.model.transformer.h.1.attn.c_attn.lora_A.default.weight\n",
      "Shape: torch.Size([8, 768])\n",
      "\n",
      "base_model.model.base_model.model.base_model.model.base_model.model.base_model.model.base_model.model.base_model.model.transformer.h.1.attn.c_attn.lora_B.default.weight\n",
      "Shape: torch.Size([2304, 8])\n",
      "\n",
      "base_model.model.base_model.model.base_model.model.base_model.model.base_model.model.base_model.model.base_model.model.transformer.h.2.attn.c_attn.lora_A.default.weight\n",
      "Shape: torch.Size([8, 768])\n",
      "\n",
      "base_model.model.base_model.model.base_model.model.base_model.model.base_model.model.base_model.model.base_model.model.transformer.h.2.attn.c_attn.lora_B.default.weight\n",
      "Shape: torch.Size([2304, 8])\n",
      "\n",
      "base_model.model.base_model.model.base_model.model.base_model.model.base_model.model.base_model.model.base_model.model.transformer.h.3.attn.c_attn.lora_A.default.weight\n",
      "Shape: torch.Size([8, 768])\n",
      "\n",
      "base_model.model.base_model.model.base_model.model.base_model.model.base_model.model.base_model.model.base_model.model.transformer.h.3.attn.c_attn.lora_B.default.weight\n",
      "Shape: torch.Size([2304, 8])\n",
      "\n",
      "base_model.model.base_model.model.base_model.model.base_model.model.base_model.model.base_model.model.base_model.model.transformer.h.4.attn.c_attn.lora_A.default.weight\n",
      "Shape: torch.Size([8, 768])\n",
      "\n",
      "base_model.model.base_model.model.base_model.model.base_model.model.base_model.model.base_model.model.base_model.model.transformer.h.4.attn.c_attn.lora_B.default.weight\n",
      "Shape: torch.Size([2304, 8])\n",
      "\n",
      "base_model.model.base_model.model.base_model.model.base_model.model.base_model.model.base_model.model.base_model.model.transformer.h.5.attn.c_attn.lora_A.default.weight\n",
      "Shape: torch.Size([16, 768])\n",
      "\n",
      "base_model.model.base_model.model.base_model.model.base_model.model.base_model.model.base_model.model.base_model.model.transformer.h.5.attn.c_attn.lora_B.default.weight\n",
      "Shape: torch.Size([2304, 16])\n",
      "\n",
      "base_model.model.base_model.model.base_model.model.base_model.model.base_model.model.base_model.model.base_model.model.transformer.h.6.attn.c_attn.lora_A.default.weight\n",
      "Shape: torch.Size([16, 768])\n",
      "\n",
      "base_model.model.base_model.model.base_model.model.base_model.model.base_model.model.base_model.model.base_model.model.transformer.h.6.attn.c_attn.lora_B.default.weight\n",
      "Shape: torch.Size([2304, 16])\n",
      "\n",
      "base_model.model.base_model.model.base_model.model.base_model.model.base_model.model.base_model.model.base_model.model.transformer.h.7.attn.c_attn.lora_A.default.weight\n",
      "Shape: torch.Size([16, 768])\n",
      "\n",
      "base_model.model.base_model.model.base_model.model.base_model.model.base_model.model.base_model.model.base_model.model.transformer.h.7.attn.c_attn.lora_B.default.weight\n",
      "Shape: torch.Size([2304, 16])\n",
      "\n",
      "base_model.model.base_model.model.base_model.model.base_model.model.base_model.model.base_model.model.base_model.model.transformer.h.8.attn.c_attn.lora_A.default.weight\n",
      "Shape: torch.Size([16, 768])\n",
      "\n",
      "base_model.model.base_model.model.base_model.model.base_model.model.base_model.model.base_model.model.base_model.model.transformer.h.8.attn.c_attn.lora_B.default.weight\n",
      "Shape: torch.Size([2304, 16])\n",
      "\n",
      "base_model.model.base_model.model.base_model.model.base_model.model.base_model.model.base_model.model.base_model.model.transformer.h.9.attn.c_attn.lora_A.default.weight\n",
      "Shape: torch.Size([16, 768])\n",
      "\n",
      "base_model.model.base_model.model.base_model.model.base_model.model.base_model.model.base_model.model.base_model.model.transformer.h.9.attn.c_attn.lora_B.default.weight\n",
      "Shape: torch.Size([2304, 16])\n",
      "\n",
      "base_model.model.base_model.model.base_model.model.base_model.model.base_model.model.base_model.model.base_model.model.transformer.h.10.attn.c_attn.lora_A.default.weight\n",
      "Shape: torch.Size([16, 768])\n",
      "\n",
      "base_model.model.base_model.model.base_model.model.base_model.model.base_model.model.base_model.model.base_model.model.transformer.h.10.attn.c_attn.lora_B.default.weight\n",
      "Shape: torch.Size([2304, 16])\n",
      "\n",
      "base_model.model.base_model.model.base_model.model.base_model.model.base_model.model.base_model.model.base_model.model.transformer.h.11.attn.c_attn.lora_A.default.weight\n",
      "Shape: torch.Size([16, 768])\n",
      "\n",
      "base_model.model.base_model.model.base_model.model.base_model.model.base_model.model.base_model.model.base_model.model.transformer.h.11.attn.c_attn.lora_B.default.weight\n",
      "Shape: torch.Size([2304, 16])\n",
      "\n",
      "base_model.model.base_model.model.base_model.model.base_model.model.base_model.model.base_model.model.base_model.model.score.modules_to_save.default.weight\n",
      "Shape: torch.Size([3, 768])\n",
      "\n",
      "Summary:\n",
      "trainable params: 469,248\n",
      "all params: 124,911,360\n",
      "trainable%: 0.38%\n"
     ]
    }
   ],
   "source": [
    "def print_trainable_parameters(model):\n",
    "    \"\"\"\n",
    "    Prints the number and names of trainable parameters in the model.\n",
    "    \"\"\"\n",
    "    trainable_params = 0\n",
    "    all_param = 0\n",
    "    print(\"Trainable layers:\")\n",
    "    for name, param in model.named_parameters():\n",
    "        all_param += param.numel()\n",
    "        if param.requires_grad:\n",
    "            print(f\"\\n{name}\")\n",
    "            print(f\"Shape: {param.shape}\")\n",
    "            trainable_params += param.numel()\n",
    "    \n",
    "    print(f\"\\nSummary:\")\n",
    "    print(f\"trainable params: {trainable_params:,d}\")\n",
    "    print(f\"all params: {all_param:,d}\")\n",
    "    print(f\"trainable%: {100 * trainable_params / all_param:.2f}%\")\n",
    "\n",
    "\n",
    "print_trainable_parameters(model)"
   ]
  },
  {
   "cell_type": "code",
   "execution_count": 23,
   "metadata": {},
   "outputs": [
    {
     "data": {
      "text/plain": [
       "<TaskType.TOKEN_CLS: 'TOKEN_CLS'>"
      ]
     },
     "execution_count": 23,
     "metadata": {},
     "output_type": "execute_result"
    }
   ],
   "source": [
    "TaskType.TOKEN_CLS"
   ]
  },
  {
   "cell_type": "code",
   "execution_count": null,
   "metadata": {},
   "outputs": [],
   "source": []
  }
 ],
 "metadata": {
  "kernelspec": {
   "display_name": "fl_project",
   "language": "python",
   "name": "python3"
  },
  "language_info": {
   "codemirror_mode": {
    "name": "ipython",
    "version": 3
   },
   "file_extension": ".py",
   "mimetype": "text/x-python",
   "name": "python",
   "nbconvert_exporter": "python",
   "pygments_lexer": "ipython3",
   "version": "3.11.11"
  }
 },
 "nbformat": 4,
 "nbformat_minor": 2
}
