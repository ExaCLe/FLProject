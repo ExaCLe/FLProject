{
 "cells": [
  {
   "cell_type": "code",
   "execution_count": 48,
   "metadata": {},
   "outputs": [
    {
     "name": "stderr",
     "output_type": "stream",
     "text": [
      "Some weights of DistilBertForSequenceClassification were not initialized from the model checkpoint at distilbert/distilbert-base-cased and are newly initialized: ['classifier.bias', 'classifier.weight', 'pre_classifier.bias', 'pre_classifier.weight']\n",
      "You should probably TRAIN this model on a down-stream task to be able to use it for predictions and inference.\n"
     ]
    }
   ],
   "source": [
    "import sys \n",
    "sys.path.append(\"..\")\n",
    "\n",
    "import argparse\n",
    "import time\n",
    "import flwr as fl\n",
    "from flwr.client import ClientApp\n",
    "from flwr.common import Context\n",
    "from flwr.server import ServerApp, ServerConfig, ServerAppComponents\n",
    "from flwr.server.strategy import FedAvg\n",
    "from flwr.simulation import run_simulation\n",
    "import torch\n",
    "from transformers import AutoModelForSequenceClassification, AutoTokenizer\n",
    "from peft.tuners.lora import LoraConfig\n",
    "from peft.utils.peft_types import TaskType\n",
    "from peft.mapping import get_peft_model\n",
    "import wandb\n",
    "from dataset import load_validation_data\n",
    "import shutil\n",
    "import os\n",
    "from torch.utils.data import ConcatDataset\n",
    "from torch.utils.data import DataLoader\n",
    "\n",
    "from client import GPT2FLClient\n",
    "from dataset import load_data\n",
    "from model import test, train\n",
    "\n",
    "model_path = \"distilbert/distilbert-base-cased\"\n",
    "# model_path = \"gpt2\"\n",
    "\n",
    "tokenizer = AutoTokenizer.from_pretrained(model_path)\n",
    "\n",
    "model = AutoModelForSequenceClassification.from_pretrained(\n",
    "        model_path,\n",
    "        num_labels=3,\n",
    "    )"
   ]
  },
  {
   "cell_type": "code",
   "execution_count": 49,
   "metadata": {},
   "outputs": [],
   "source": [
    "peft_config = LoraConfig(\n",
    "    task_type=TaskType.SEQ_CLS,\n",
    "    inference_mode=False,\n",
    "    r=8,\n",
    "    lora_alpha=32,\n",
    "    lora_dropout=0.1,\n",
    "    target_modules=[\"q_lin\", \"v_lin\"], \n",
    ")\n",
    "\n",
    "model = get_peft_model(model, peft_config)"
   ]
  },
  {
   "cell_type": "code",
   "execution_count": 50,
   "metadata": {},
   "outputs": [
    {
     "data": {
      "text/plain": [
       "{'q_lin', 'v_lin'}"
      ]
     },
     "execution_count": 50,
     "metadata": {},
     "output_type": "execute_result"
    }
   ],
   "source": [
    "peft_config.target_modules"
   ]
  },
  {
   "cell_type": "code",
   "execution_count": 51,
   "metadata": {},
   "outputs": [
    {
     "data": {
      "text/plain": [
       "['classifier', 'score']"
      ]
     },
     "execution_count": 51,
     "metadata": {},
     "output_type": "execute_result"
    }
   ],
   "source": [
    "peft_config.modules_to_save"
   ]
  },
  {
   "cell_type": "code",
   "execution_count": 52,
   "metadata": {},
   "outputs": [],
   "source": [
    "peft_config.layers_to_transform"
   ]
  },
  {
   "cell_type": "code",
   "execution_count": 53,
   "metadata": {},
   "outputs": [
    {
     "name": "stdout",
     "output_type": "stream",
     "text": [
      "Trainable layers:\n",
      "\n",
      "base_model.model.distilbert.transformer.layer.0.attention.q_lin.lora_A.default.weight\n",
      "Shape: torch.Size([8, 768])\n",
      "\n",
      "base_model.model.distilbert.transformer.layer.0.attention.q_lin.lora_B.default.weight\n",
      "Shape: torch.Size([768, 8])\n",
      "\n",
      "base_model.model.distilbert.transformer.layer.0.attention.v_lin.lora_A.default.weight\n",
      "Shape: torch.Size([8, 768])\n",
      "\n",
      "base_model.model.distilbert.transformer.layer.0.attention.v_lin.lora_B.default.weight\n",
      "Shape: torch.Size([768, 8])\n",
      "\n",
      "base_model.model.distilbert.transformer.layer.1.attention.q_lin.lora_A.default.weight\n",
      "Shape: torch.Size([8, 768])\n",
      "\n",
      "base_model.model.distilbert.transformer.layer.1.attention.q_lin.lora_B.default.weight\n",
      "Shape: torch.Size([768, 8])\n",
      "\n",
      "base_model.model.distilbert.transformer.layer.1.attention.v_lin.lora_A.default.weight\n",
      "Shape: torch.Size([8, 768])\n",
      "\n",
      "base_model.model.distilbert.transformer.layer.1.attention.v_lin.lora_B.default.weight\n",
      "Shape: torch.Size([768, 8])\n",
      "\n",
      "base_model.model.distilbert.transformer.layer.2.attention.q_lin.lora_A.default.weight\n",
      "Shape: torch.Size([8, 768])\n",
      "\n",
      "base_model.model.distilbert.transformer.layer.2.attention.q_lin.lora_B.default.weight\n",
      "Shape: torch.Size([768, 8])\n",
      "\n",
      "base_model.model.distilbert.transformer.layer.2.attention.v_lin.lora_A.default.weight\n",
      "Shape: torch.Size([8, 768])\n",
      "\n",
      "base_model.model.distilbert.transformer.layer.2.attention.v_lin.lora_B.default.weight\n",
      "Shape: torch.Size([768, 8])\n",
      "\n",
      "base_model.model.distilbert.transformer.layer.3.attention.q_lin.lora_A.default.weight\n",
      "Shape: torch.Size([8, 768])\n",
      "\n",
      "base_model.model.distilbert.transformer.layer.3.attention.q_lin.lora_B.default.weight\n",
      "Shape: torch.Size([768, 8])\n",
      "\n",
      "base_model.model.distilbert.transformer.layer.3.attention.v_lin.lora_A.default.weight\n",
      "Shape: torch.Size([8, 768])\n",
      "\n",
      "base_model.model.distilbert.transformer.layer.3.attention.v_lin.lora_B.default.weight\n",
      "Shape: torch.Size([768, 8])\n",
      "\n",
      "base_model.model.distilbert.transformer.layer.4.attention.q_lin.lora_A.default.weight\n",
      "Shape: torch.Size([8, 768])\n",
      "\n",
      "base_model.model.distilbert.transformer.layer.4.attention.q_lin.lora_B.default.weight\n",
      "Shape: torch.Size([768, 8])\n",
      "\n",
      "base_model.model.distilbert.transformer.layer.4.attention.v_lin.lora_A.default.weight\n",
      "Shape: torch.Size([8, 768])\n",
      "\n",
      "base_model.model.distilbert.transformer.layer.4.attention.v_lin.lora_B.default.weight\n",
      "Shape: torch.Size([768, 8])\n",
      "\n",
      "base_model.model.distilbert.transformer.layer.5.attention.q_lin.lora_A.default.weight\n",
      "Shape: torch.Size([8, 768])\n",
      "\n",
      "base_model.model.distilbert.transformer.layer.5.attention.q_lin.lora_B.default.weight\n",
      "Shape: torch.Size([768, 8])\n",
      "\n",
      "base_model.model.distilbert.transformer.layer.5.attention.v_lin.lora_A.default.weight\n",
      "Shape: torch.Size([8, 768])\n",
      "\n",
      "base_model.model.distilbert.transformer.layer.5.attention.v_lin.lora_B.default.weight\n",
      "Shape: torch.Size([768, 8])\n",
      "\n",
      "base_model.model.pre_classifier.modules_to_save.default.weight\n",
      "Shape: torch.Size([768, 768])\n",
      "\n",
      "base_model.model.pre_classifier.modules_to_save.default.bias\n",
      "Shape: torch.Size([768])\n",
      "\n",
      "base_model.model.classifier.modules_to_save.default.weight\n",
      "Shape: torch.Size([3, 768])\n",
      "\n",
      "base_model.model.classifier.modules_to_save.default.bias\n",
      "Shape: torch.Size([3])\n",
      "\n",
      "Summary:\n",
      "trainable params: 740,355\n",
      "all params: 66,524,166\n",
      "trainable%: 1.11%\n"
     ]
    }
   ],
   "source": [
    "def print_trainable_parameters(model):\n",
    "    \"\"\"\n",
    "    Prints the number and names of trainable parameters in the model.\n",
    "    \"\"\"\n",
    "    trainable_params = 0\n",
    "    all_param = 0\n",
    "    print(\"Trainable layers:\")\n",
    "    for name, param in model.named_parameters():\n",
    "        all_param += param.numel()\n",
    "        if param.requires_grad:\n",
    "            print(f\"\\n{name}\")\n",
    "            print(f\"Shape: {param.shape}\")\n",
    "            trainable_params += param.numel()\n",
    "    \n",
    "    print(f\"\\nSummary:\")\n",
    "    print(f\"trainable params: {trainable_params:,d}\")\n",
    "    print(f\"all params: {all_param:,d}\")\n",
    "    print(f\"trainable%: {100 * trainable_params / all_param:.2f}%\")\n",
    "\n",
    "\n",
    "print_trainable_parameters(model)"
   ]
  },
  {
   "cell_type": "code",
   "execution_count": 55,
   "metadata": {},
   "outputs": [
    {
     "data": {
      "text/plain": [
       "PeftModelForSequenceClassification(\n",
       "  (base_model): LoraModel(\n",
       "    (model): DistilBertForSequenceClassification(\n",
       "      (distilbert): DistilBertModel(\n",
       "        (embeddings): Embeddings(\n",
       "          (word_embeddings): Embedding(28996, 768, padding_idx=0)\n",
       "          (position_embeddings): Embedding(512, 768)\n",
       "          (LayerNorm): LayerNorm((768,), eps=1e-12, elementwise_affine=True)\n",
       "          (dropout): Dropout(p=0.1, inplace=False)\n",
       "        )\n",
       "        (transformer): Transformer(\n",
       "          (layer): ModuleList(\n",
       "            (0-5): 6 x TransformerBlock(\n",
       "              (attention): DistilBertSdpaAttention(\n",
       "                (dropout): Dropout(p=0.1, inplace=False)\n",
       "                (q_lin): lora.Linear(\n",
       "                  (base_layer): Linear(in_features=768, out_features=768, bias=True)\n",
       "                  (lora_dropout): ModuleDict(\n",
       "                    (default): Dropout(p=0.1, inplace=False)\n",
       "                  )\n",
       "                  (lora_A): ModuleDict(\n",
       "                    (default): Linear(in_features=768, out_features=8, bias=False)\n",
       "                  )\n",
       "                  (lora_B): ModuleDict(\n",
       "                    (default): Linear(in_features=8, out_features=768, bias=False)\n",
       "                  )\n",
       "                  (lora_embedding_A): ParameterDict()\n",
       "                  (lora_embedding_B): ParameterDict()\n",
       "                  (lora_magnitude_vector): ModuleDict()\n",
       "                )\n",
       "                (k_lin): Linear(in_features=768, out_features=768, bias=True)\n",
       "                (v_lin): lora.Linear(\n",
       "                  (base_layer): Linear(in_features=768, out_features=768, bias=True)\n",
       "                  (lora_dropout): ModuleDict(\n",
       "                    (default): Dropout(p=0.1, inplace=False)\n",
       "                  )\n",
       "                  (lora_A): ModuleDict(\n",
       "                    (default): Linear(in_features=768, out_features=8, bias=False)\n",
       "                  )\n",
       "                  (lora_B): ModuleDict(\n",
       "                    (default): Linear(in_features=8, out_features=768, bias=False)\n",
       "                  )\n",
       "                  (lora_embedding_A): ParameterDict()\n",
       "                  (lora_embedding_B): ParameterDict()\n",
       "                  (lora_magnitude_vector): ModuleDict()\n",
       "                )\n",
       "                (out_lin): Linear(in_features=768, out_features=768, bias=True)\n",
       "              )\n",
       "              (sa_layer_norm): LayerNorm((768,), eps=1e-12, elementwise_affine=True)\n",
       "              (ffn): FFN(\n",
       "                (dropout): Dropout(p=0.1, inplace=False)\n",
       "                (lin1): Linear(in_features=768, out_features=3072, bias=True)\n",
       "                (lin2): Linear(in_features=3072, out_features=768, bias=True)\n",
       "                (activation): GELUActivation()\n",
       "              )\n",
       "              (output_layer_norm): LayerNorm((768,), eps=1e-12, elementwise_affine=True)\n",
       "            )\n",
       "          )\n",
       "        )\n",
       "      )\n",
       "      (pre_classifier): ModulesToSaveWrapper(\n",
       "        (original_module): Linear(in_features=768, out_features=768, bias=True)\n",
       "        (modules_to_save): ModuleDict(\n",
       "          (default): Linear(in_features=768, out_features=768, bias=True)\n",
       "        )\n",
       "      )\n",
       "      (classifier): ModulesToSaveWrapper(\n",
       "        (original_module): Linear(in_features=768, out_features=3, bias=True)\n",
       "        (modules_to_save): ModuleDict(\n",
       "          (default): Linear(in_features=768, out_features=3, bias=True)\n",
       "        )\n",
       "      )\n",
       "      (dropout): Dropout(p=0.2, inplace=False)\n",
       "    )\n",
       "  )\n",
       ")"
      ]
     },
     "execution_count": 55,
     "metadata": {},
     "output_type": "execute_result"
    }
   ],
   "source": [
    "model"
   ]
  },
  {
   "cell_type": "code",
   "execution_count": null,
   "metadata": {},
   "outputs": [],
   "source": []
  }
 ],
 "metadata": {
  "kernelspec": {
   "display_name": "fl_project",
   "language": "python",
   "name": "python3"
  },
  "language_info": {
   "codemirror_mode": {
    "name": "ipython",
    "version": 3
   },
   "file_extension": ".py",
   "mimetype": "text/x-python",
   "name": "python",
   "nbconvert_exporter": "python",
   "pygments_lexer": "ipython3",
   "version": "3.11.11"
  }
 },
 "nbformat": 4,
 "nbformat_minor": 2
}
