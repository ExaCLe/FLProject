{
 "cells": [
  {
   "cell_type": "markdown",
   "metadata": {
    "vscode": {
     "languageId": "latex"
    }
   },
   "source": [
    "# Loading and Exploring the XNLI Dataset\n",
    "\n",
    "In this notebook, we will load the XNLI dataset from the specified path and explore its basic information. The XNLI dataset is a crowd-sourced collection of sentence pairs in 15 languages annotated with textual entailment information.\n",
    "\n",
    "## Steps:\n",
    "1. Load the dataset from the specified path.\n",
    "2. Display the first few rows of the dataset to understand its structure.\n",
    "3. Get basic information about the dataset, such as the number of rows, columns, and data types.\n",
    "4. Check for any missing values in the dataset."
   ]
  },
  {
   "cell_type": "code",
   "execution_count": 2,
   "metadata": {},
   "outputs": [
    {
     "name": "stdout",
     "output_type": "stream",
     "text": [
      "  language     gold_label  sentence1_binary_parse  sentence2_binary_parse  \\\n",
      "0       ar        neutral                     NaN                     NaN   \n",
      "1       ar  contradiction                     NaN                     NaN   \n",
      "2       ar     entailment                     NaN                     NaN   \n",
      "3       ar        neutral                     NaN                     NaN   \n",
      "4       ar  contradiction                     NaN                     NaN   \n",
      "\n",
      "   sentence1_parse  sentence2_parse  \\\n",
      "0              NaN              NaN   \n",
      "1              NaN              NaN   \n",
      "2              NaN              NaN   \n",
      "3              NaN              NaN   \n",
      "4              NaN              NaN   \n",
      "\n",
      "                                           sentence1  \\\n",
      "0                        وقال، ماما، لقد عدت للمنزل.   \n",
      "1                        وقال، ماما، لقد عدت للمنزل.   \n",
      "2                        وقال، ماما، لقد عدت للمنزل.   \n",
      "3  لم أعرف من أجل ماذا أنا ذاهب أو أي شىْ ، لذلك ...   \n",
      "4  لم أعرف من أجل ماذا أنا ذاهب أو أي شىْ ، لذلك ...   \n",
      "\n",
      "                                           sentence2  promptID  pairID  \\\n",
      "0             اتصل بأمه حالما أوصلته حافلة المدرسية.         1       1   \n",
      "1                                  لم ينطق ببنت شفة.         1       2   \n",
      "2                        أخبر أمه أنه قد عاد للمنزل.         1       3   \n",
      "3  لم أذهب إلى واشنطن من قبل، لذا عندما تم تكليفي...         6      16   \n",
      "4  لقد عرفت بالضبط ما الذي احتجت أن أفعله عندما م...         6      17   \n",
      "\n",
      "        genre         label1         label2         label3         label4  \\\n",
      "0  facetoface        neutral  contradiction        neutral        neutral   \n",
      "1  facetoface  contradiction  contradiction  contradiction  contradiction   \n",
      "2  facetoface     entailment     entailment        neutral     entailment   \n",
      "3  facetoface        neutral        neutral        neutral        neutral   \n",
      "4  facetoface  contradiction  contradiction  contradiction  contradiction   \n",
      "\n",
      "          label5                                sentence1_tokenized  \\\n",
      "0        neutral                     وقال ، ماما ، لقد عدت للمنزل .   \n",
      "1  contradiction                     وقال ، ماما ، لقد عدت للمنزل .   \n",
      "2     entailment                     وقال ، ماما ، لقد عدت للمنزل .   \n",
      "3        neutral  لم أعرف من أجل ماذا أنا ذاهب أو أي شىْ ، لذلك ...   \n",
      "4  contradiction  لم أعرف من أجل ماذا أنا ذاهب أو أي شىْ ، لذلك ...   \n",
      "\n",
      "                                 sentence2_tokenized  match  \n",
      "0            اتصل بأمه حالما أوصلته حافلة المدرسية .   True  \n",
      "1                                 لم ينطق ببنت شفة .   True  \n",
      "2                       أخبر أمه أنه قد عاد للمنزل .   True  \n",
      "3  لم أذهب إلى واشنطن من قبل ، لذا عندما تم تكليف...   True  \n",
      "4  لقد عرفت بالضبط ما الذي احتجت أن أفعله عندما م...   True  \n",
      "<class 'pandas.core.frame.DataFrame'>\n",
      "RangeIndex: 37350 entries, 0 to 37349\n",
      "Data columns (total 19 columns):\n",
      " #   Column                  Non-Null Count  Dtype  \n",
      "---  ------                  --------------  -----  \n",
      " 0   language                37350 non-null  object \n",
      " 1   gold_label              37350 non-null  object \n",
      " 2   sentence1_binary_parse  0 non-null      float64\n",
      " 3   sentence2_binary_parse  0 non-null      float64\n",
      " 4   sentence1_parse         0 non-null      float64\n",
      " 5   sentence2_parse         0 non-null      float64\n",
      " 6   sentence1               37350 non-null  object \n",
      " 7   sentence2               37350 non-null  object \n",
      " 8   promptID                37350 non-null  int64  \n",
      " 9   pairID                  37350 non-null  int64  \n",
      " 10  genre                   37350 non-null  object \n",
      " 11  label1                  37350 non-null  object \n",
      " 12  label2                  37350 non-null  object \n",
      " 13  label3                  37350 non-null  object \n",
      " 14  label4                  37350 non-null  object \n",
      " 15  label5                  37350 non-null  object \n",
      " 16  sentence1_tokenized     37350 non-null  object \n",
      " 17  sentence2_tokenized     37350 non-null  object \n",
      " 18  match                   37350 non-null  bool   \n",
      "dtypes: bool(1), float64(4), int64(2), object(12)\n",
      "memory usage: 5.2+ MB\n",
      "None\n",
      "language                      0\n",
      "gold_label                    0\n",
      "sentence1_binary_parse    37350\n",
      "sentence2_binary_parse    37350\n",
      "sentence1_parse           37350\n",
      "sentence2_parse           37350\n",
      "sentence1                     0\n",
      "sentence2                     0\n",
      "promptID                      0\n",
      "pairID                        0\n",
      "genre                         0\n",
      "label1                        0\n",
      "label2                        0\n",
      "label3                        0\n",
      "label4                        0\n",
      "label5                        0\n",
      "sentence1_tokenized           0\n",
      "sentence2_tokenized           0\n",
      "match                         0\n",
      "dtype: int64\n"
     ]
    }
   ],
   "source": [
    "import pandas as pd\n",
    "\n",
    "# Step 1: Load the dataset from the specified path\n",
    "path = '../data/xnli/xnli.dev.tsv'\n",
    "df = pd.read_csv(path, sep='\\t')\n",
    "\n",
    "# Step 2: Display the first few rows of the dataset to understand its structure\n",
    "print(df.head())\n",
    "\n",
    "# Step 3: Get basic information about the dataset, such as the number of rows, columns, and data types\n",
    "print(df.info())\n",
    "\n",
    "# Step 4: Check for any missing values in the dataset\n",
    "print(df.isnull().sum())"
   ]
  },
  {
   "cell_type": "code",
   "execution_count": 2,
   "metadata": {},
   "outputs": [
    {
     "name": "stdout",
     "output_type": "stream",
     "text": [
      "['ar' 'bg' 'de' 'el' 'en' 'es' 'fr' 'hi' 'ru' 'sw' 'th' 'tr' 'ur' 'vi'\n",
      " 'zh']\n"
     ]
    }
   ],
   "source": [
    "languages = df['language'].unique()\n",
    "print(languages)"
   ]
  },
  {
   "cell_type": "code",
   "execution_count": 3,
   "metadata": {},
   "outputs": [
    {
     "name": "stdout",
     "output_type": "stream",
     "text": [
      "      language     gold_label  sentence1_binary_parse  sentence2_binary_parse  \\\n",
      "4980        de        neutral                     NaN                     NaN   \n",
      "4981        de  contradiction                     NaN                     NaN   \n",
      "4982        de     entailment                     NaN                     NaN   \n",
      "4983        de        neutral                     NaN                     NaN   \n",
      "4984        de  contradiction                     NaN                     NaN   \n",
      "...        ...            ...                     ...                     ...   \n",
      "37345       zh        neutral                     NaN                     NaN   \n",
      "37346       zh  contradiction                     NaN                     NaN   \n",
      "37347       zh        neutral                     NaN                     NaN   \n",
      "37348       zh  contradiction                     NaN                     NaN   \n",
      "37349       zh     entailment                     NaN                     NaN   \n",
      "\n",
      "       sentence1_parse  sentence2_parse  \\\n",
      "4980               NaN              NaN   \n",
      "4981               NaN              NaN   \n",
      "4982               NaN              NaN   \n",
      "4983               NaN              NaN   \n",
      "4984               NaN              NaN   \n",
      "...                ...              ...   \n",
      "37345              NaN              NaN   \n",
      "37346              NaN              NaN   \n",
      "37347              NaN              NaN   \n",
      "37348              NaN              NaN   \n",
      "37349              NaN              NaN   \n",
      "\n",
      "                                               sentence1  \\\n",
      "4980             und er hat gesagt, Mama ich bin daheim.   \n",
      "4981             und er hat gesagt, Mama ich bin daheim.   \n",
      "4982             und er hat gesagt, Mama ich bin daheim.   \n",
      "4983   Ich wusste nicht was ich vorhatte oder so, ich...   \n",
      "4984   Ich wusste nicht was ich vorhatte oder so, ich...   \n",
      "...                                                  ...   \n",
      "37345  Feisty就像fizzle一样，开始于中古英语的fysten，比如fisten `to f...   \n",
      "37346  Feisty就像fizzle一样，开始于中古英语的fysten，比如fisten `to f...   \n",
      "37347                              虽然陈述更好，但答案给出了完成的心理图景。   \n",
      "37348                              虽然陈述更好，但答案给出了完成的心理图景。   \n",
      "37349                              虽然陈述更好，但答案给出了完成的心理图景。   \n",
      "\n",
      "                                               sentence2  promptID  pairID  \\\n",
      "4980   Er rief seine Mutter an, sobald er aus dem Sch...         1       1   \n",
      "4981                                 Er sagte kein Wort.         1       2   \n",
      "4982   Er sagte seiner Mutter, er sei nach Hause geko...         1       3   \n",
      "4983   Ich war noch nie in Washington, deshalb habe i...         6      16   \n",
      "4984   Ich wusste genau, was ich tun musste, als ich ...         6      17   \n",
      "...                                                  ...       ...     ...   \n",
      "37345                                   Fiesty已经面世100年了。      2497    7490   \n",
      "37346                                   Fiesty与fisten无关。      2497    7491   \n",
      "37347                                         声明给出了更多细节。      2498    7492   \n",
      "37348                                            声明未必更好。      2498    7493   \n",
      "37349                                           声明更略胜一筹。      2498    7494   \n",
      "\n",
      "            genre         label1         label2         label3         label4  \\\n",
      "4980   facetoface        neutral  contradiction        neutral        neutral   \n",
      "4981   facetoface  contradiction  contradiction  contradiction  contradiction   \n",
      "4982   facetoface     entailment     entailment        neutral     entailment   \n",
      "4983   facetoface        neutral        neutral        neutral        neutral   \n",
      "4984   facetoface  contradiction  contradiction  contradiction  contradiction   \n",
      "...           ...            ...            ...            ...            ...   \n",
      "37345    verbatim        neutral        neutral        neutral        neutral   \n",
      "37346    verbatim  contradiction  contradiction  contradiction  contradiction   \n",
      "37347    verbatim        neutral     entailment        neutral        neutral   \n",
      "37348    verbatim  contradiction  contradiction  contradiction  contradiction   \n",
      "37349    verbatim     entailment     entailment     entailment     entailment   \n",
      "\n",
      "              label5                                sentence1_tokenized  \\\n",
      "4980         neutral          und er hat gesagt , Mama ich bin daheim .   \n",
      "4981   contradiction          und er hat gesagt , Mama ich bin daheim .   \n",
      "4982      entailment          und er hat gesagt , Mama ich bin daheim .   \n",
      "4983         neutral  Ich wusste nicht was ich vorhatte oder so , ic...   \n",
      "4984   contradiction  Ich wusste nicht was ich vorhatte oder so , ic...   \n",
      "...              ...                                                ...   \n",
      "37345        neutral  Feisty 就 像 fizzle 一样 ， 开始 于 中古英语 的 fysten ， 比如...   \n",
      "37346  contradiction  Feisty 就 像 fizzle 一样 ， 开始 于 中古英语 的 fysten ， 比如...   \n",
      "37347  contradiction                虽然 陈述 更 好 ， 但 答案 给 出 了 完成 的 心理 图景 。   \n",
      "37348  contradiction                虽然 陈述 更 好 ， 但 答案 给 出 了 完成 的 心理 图景 。   \n",
      "37349     entailment                虽然 陈述 更 好 ， 但 答案 给 出 了 完成 的 心理 图景 。   \n",
      "\n",
      "                                     sentence2_tokenized  match  \n",
      "4980   Er rief seine Mutter an , sobald er aus dem Sc...   True  \n",
      "4981                                Er sagte kein Wort .   True  \n",
      "4982   Er sagte seiner Mutter , er sei nach Hause gek...   True  \n",
      "4983   Ich war noch nie in Washington , deshalb habe ...   True  \n",
      "4984   Ich wusste genau , was ich tun musste , als ic...   True  \n",
      "...                                                  ...    ...  \n",
      "37345                              Fiesty 已经 面世 100年 了 。   True  \n",
      "37346                               Fiesty 与 fisten 无关 。   True  \n",
      "37347                                  声明 给 出 了 更 多 细节 。   True  \n",
      "37348                                        声明 未必 更 好 。   True  \n",
      "37349                                        声明 更 略胜一筹 。   True  \n",
      "\n",
      "[12450 rows x 19 columns]\n",
      "Number of samples remaining: 12450\n"
     ]
    }
   ],
   "source": [
    "selected_languages = ['en', 'es', 'fr', 'de', 'zh']\n",
    "df_filtered = df[df['language'].isin(selected_languages)]\n",
    "print(df_filtered)\n",
    "print(f\"Number of samples remaining: {len(df_filtered)}\")"
   ]
  },
  {
   "cell_type": "code",
   "execution_count": 4,
   "metadata": {},
   "outputs": [
    {
     "name": "stdout",
     "output_type": "stream",
     "text": [
      "language\n",
      "de    2490\n",
      "en    2490\n",
      "es    2490\n",
      "fr    2490\n",
      "zh    2490\n",
      "Name: count, dtype: int64\n"
     ]
    }
   ],
   "source": [
    "samples_per_language = df_filtered['language'].value_counts()\n",
    "print(samples_per_language)"
   ]
  },
  {
   "cell_type": "code",
   "execution_count": 6,
   "metadata": {},
   "outputs": [
    {
     "name": "stdout",
     "output_type": "stream",
     "text": [
      "language\n",
      "de    5010\n",
      "en    5010\n",
      "es    5010\n",
      "fr    5010\n",
      "zh    5010\n",
      "Name: count, dtype: int64\n"
     ]
    }
   ],
   "source": [
    "# Load the test dataset\n",
    "test_path = '../data/xnli/xnli.test.tsv'\n",
    "df_test = pd.read_csv(test_path, sep='\\t')\n",
    "\n",
    "# Filter the test dataset for the selected languages\n",
    "df_test_filtered = df_test[df_test['language'].isin(selected_languages)]\n",
    "\n",
    "# Get the number of samples for each language\n",
    "samples_per_language_test = df_test_filtered['language'].value_counts()\n",
    "\n",
    "print(samples_per_language_test)\n"
   ]
  },
  {
   "cell_type": "code",
   "execution_count": 7,
   "metadata": {},
   "outputs": [],
   "source": [
    "# Save the filtered dev set to a CSV file\n",
    "df_filtered.to_csv('../data/xnli/xnli_filtered_dev.csv', index=False)"
   ]
  },
  {
   "cell_type": "code",
   "execution_count": 8,
   "metadata": {},
   "outputs": [
    {
     "name": "stdout",
     "output_type": "stream",
     "text": [
      "<class 'pandas.core.frame.DataFrame'>\n",
      "Index: 12450 entries, 4980 to 37349\n",
      "Data columns (total 19 columns):\n",
      " #   Column                  Non-Null Count  Dtype  \n",
      "---  ------                  --------------  -----  \n",
      " 0   language                12450 non-null  object \n",
      " 1   gold_label              12450 non-null  object \n",
      " 2   sentence1_binary_parse  0 non-null      float64\n",
      " 3   sentence2_binary_parse  0 non-null      float64\n",
      " 4   sentence1_parse         0 non-null      float64\n",
      " 5   sentence2_parse         0 non-null      float64\n",
      " 6   sentence1               12450 non-null  object \n",
      " 7   sentence2               12450 non-null  object \n",
      " 8   promptID                12450 non-null  int64  \n",
      " 9   pairID                  12450 non-null  int64  \n",
      " 10  genre                   12450 non-null  object \n",
      " 11  label1                  12450 non-null  object \n",
      " 12  label2                  12450 non-null  object \n",
      " 13  label3                  12450 non-null  object \n",
      " 14  label4                  12450 non-null  object \n",
      " 15  label5                  12450 non-null  object \n",
      " 16  sentence1_tokenized     12450 non-null  object \n",
      " 17  sentence2_tokenized     12450 non-null  object \n",
      " 18  match                   12450 non-null  bool   \n",
      "dtypes: bool(1), float64(4), int64(2), object(12)\n",
      "memory usage: 1.8+ MB\n"
     ]
    }
   ],
   "source": [
    "df_filtered.info()"
   ]
  },
  {
   "cell_type": "code",
   "execution_count": 23,
   "metadata": {},
   "outputs": [
    {
     "name": "stdout",
     "output_type": "stream",
     "text": [
      "Language: en\n",
      "Gold Label: contradiction\n",
      "\n",
      "Sentence 1: I was just there just trying to figure it out.\n",
      "\n",
      "Sentence 2: I understood it well from the beginning.\n"
     ]
    }
   ],
   "source": [
    "# Get one example from the filtered dataset\n",
    "example = df_filtered.iloc[2502]\n",
    "print(\"Language:\", example['language'])\n",
    "print(\"Gold Label:\", example['gold_label'])\n",
    "print(\"\\nSentence 1:\", example['sentence1'])\n",
    "print(\"\\nSentence 2:\", example['sentence2'])"
   ]
  },
  {
   "cell_type": "code",
   "execution_count": 10,
   "metadata": {},
   "outputs": [
    {
     "name": "stdout",
     "output_type": "stream",
     "text": [
      "Language: de\n",
      "Gold Label: contradiction\n",
      "\n",
      "Sentence 1: und er hat gesagt, Mama ich bin daheim.\n",
      "\n",
      "Sentence 2: Er sagte kein Wort.\n"
     ]
    }
   ],
   "source": [
    "example = df_filtered.iloc[1]\n",
    "print(\"Language:\", example['language'])\n",
    "print(\"Gold Label:\", example['gold_label'])\n",
    "print(\"\\nSentence 1:\", example['sentence1'])\n",
    "print(\"\\nSentence 2:\", example['sentence2'])"
   ]
  },
  {
   "cell_type": "code",
   "execution_count": 11,
   "metadata": {},
   "outputs": [
    {
     "name": "stdout",
     "output_type": "stream",
     "text": [
      "Validation set shape: (5000, 19)\n",
      "Test set shape: (20050, 19)\n"
     ]
    }
   ],
   "source": [
    "# Create validation set with 1000 samples per language\n",
    "validation_dfs = []\n",
    "test_dfs = []\n",
    "\n",
    "for lang in selected_languages:\n",
    "    lang_data = df_test_filtered[df_test_filtered['language'] == lang]\n",
    "    \n",
    "    # Get 1000 samples for validation\n",
    "    validation_data = lang_data.head(1000)\n",
    "    # Get remaining samples for test\n",
    "    test_data = lang_data.iloc[1000:]\n",
    "    \n",
    "    validation_dfs.append(validation_data)\n",
    "    test_dfs.append(test_data)\n",
    "\n",
    "# Combine all languages\n",
    "df_validation = pd.concat(validation_dfs, axis=0)\n",
    "df_test_final = pd.concat(test_dfs, axis=0)\n",
    "\n",
    "# Print the shapes to verify\n",
    "print(\"Validation set shape:\", df_validation.shape)\n",
    "print(\"Test set shape:\", df_test_final.shape)\n",
    "\n",
    "# Save the splits\n",
    "df_validation.to_csv('../data/xnli/xnli_validation.csv', index=False)\n",
    "df_test_final.to_csv('../data/xnli/xnli_test.csv', index=False)"
   ]
  },
  {
   "cell_type": "code",
   "execution_count": null,
   "metadata": {},
   "outputs": [],
   "source": []
  }
 ],
 "metadata": {
  "kernelspec": {
   "display_name": "fl_project",
   "language": "python",
   "name": "python3"
  },
  "language_info": {
   "codemirror_mode": {
    "name": "ipython",
    "version": 3
   },
   "file_extension": ".py",
   "mimetype": "text/x-python",
   "name": "python",
   "nbconvert_exporter": "python",
   "pygments_lexer": "ipython3",
   "version": "3.11.11"
  }
 },
 "nbformat": 4,
 "nbformat_minor": 2
}
